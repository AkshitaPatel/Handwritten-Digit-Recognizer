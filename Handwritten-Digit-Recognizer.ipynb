{
  "nbformat": 4,
  "nbformat_minor": 0,
  "metadata": {
    "colab": {
      "name": "ML-Masterclass-Coding-28-Nov-20.ipynb",
      "provenance": []
    },
    "kernelspec": {
      "name": "python3",
      "display_name": "Python 3"
    },
    "accelerator": "GPU"
  },
  "cells": [
    {
      "cell_type": "code",
      "metadata": {
        "id": "iaIJxJxsxiqn"
      },
      "source": [
        "import keras"
      ],
      "execution_count": 1,
      "outputs": []
    },
    {
      "cell_type": "code",
      "metadata": {
        "id": "7eN2TbEhyD0-"
      },
      "source": [
        "from keras.datasets import mnist"
      ],
      "execution_count": 2,
      "outputs": []
    },
    {
      "cell_type": "code",
      "metadata": {
        "id": "RG3_wsc5yOrH",
        "colab": {
          "base_uri": "https://localhost:8080/"
        },
        "outputId": "de9dfbf3-db58-47c1-de75-73d7b7880e91"
      },
      "source": [
        "data = mnist.load_data()\n",
        "(train_images, train_labels), (test_images, test_labels) = data"
      ],
      "execution_count": 3,
      "outputs": [
        {
          "output_type": "stream",
          "text": [
            "Downloading data from https://storage.googleapis.com/tensorflow/tf-keras-datasets/mnist.npz\n",
            "11493376/11490434 [==============================] - 0s 0us/step\n"
          ],
          "name": "stdout"
        }
      ]
    },
    {
      "cell_type": "code",
      "metadata": {
        "id": "7S0VdcxkymMN",
        "colab": {
          "base_uri": "https://localhost:8080/"
        },
        "outputId": "e714e013-f8bc-4647-9d99-61af014934d5"
      },
      "source": [
        "len(train_images)"
      ],
      "execution_count": 4,
      "outputs": [
        {
          "output_type": "execute_result",
          "data": {
            "text/plain": [
              "60000"
            ]
          },
          "metadata": {
            "tags": []
          },
          "execution_count": 4
        }
      ]
    },
    {
      "cell_type": "code",
      "metadata": {
        "id": "Nm-uFBH5ysc2",
        "colab": {
          "base_uri": "https://localhost:8080/"
        },
        "outputId": "2e6a9fe4-3a9b-4eb9-a31a-ed1d6e5bf153"
      },
      "source": [
        "len(train_labels)"
      ],
      "execution_count": 5,
      "outputs": [
        {
          "output_type": "execute_result",
          "data": {
            "text/plain": [
              "60000"
            ]
          },
          "metadata": {
            "tags": []
          },
          "execution_count": 5
        }
      ]
    },
    {
      "cell_type": "code",
      "metadata": {
        "id": "KCoJa410yvsT",
        "colab": {
          "base_uri": "https://localhost:8080/"
        },
        "outputId": "5b30715e-d5ec-41ff-8af6-8af35cba481a"
      },
      "source": [
        "len(test_images)"
      ],
      "execution_count": 6,
      "outputs": [
        {
          "output_type": "execute_result",
          "data": {
            "text/plain": [
              "10000"
            ]
          },
          "metadata": {
            "tags": []
          },
          "execution_count": 6
        }
      ]
    },
    {
      "cell_type": "code",
      "metadata": {
        "id": "yZzk530Ky-Cn"
      },
      "source": [
        "train_images = train_images.reshape((60000, 28, 28, 1))"
      ],
      "execution_count": 7,
      "outputs": []
    },
    {
      "cell_type": "code",
      "metadata": {
        "id": "kVmY_DWtzIYh"
      },
      "source": [
        "test_images = test_images.reshape((10000, 28, 28, 1))"
      ],
      "execution_count": 8,
      "outputs": []
    },
    {
      "cell_type": "code",
      "metadata": {
        "id": "rrn1GlEd0P4F"
      },
      "source": [
        "train_images = train_images.astype('float')/255 #normalization"
      ],
      "execution_count": 9,
      "outputs": []
    },
    {
      "cell_type": "code",
      "metadata": {
        "id": "LNWfwubv0fKc"
      },
      "source": [
        "test_images = test_images.astype('float')/255 #normalization"
      ],
      "execution_count": 10,
      "outputs": []
    },
    {
      "cell_type": "markdown",
      "metadata": {
        "id": "Gu--mK8Z2EHr"
      },
      "source": [
        ""
      ]
    },
    {
      "cell_type": "code",
      "metadata": {
        "id": "RJ_KLVOg0mj8"
      },
      "source": [
        "from keras.preprocessing import image\n",
        "import matplotlib.pyplot as plt"
      ],
      "execution_count": 11,
      "outputs": []
    },
    {
      "cell_type": "code",
      "metadata": {
        "id": "bXFqUq5a0t_e",
        "colab": {
          "base_uri": "https://localhost:8080/",
          "height": 282
        },
        "outputId": "09e99ed3-0237-4295-8a1e-5a56e7dcac98"
      },
      "source": [
        "plt.imshow(image.array_to_img(train_images[8]), cmap=\"gray\")"
      ],
      "execution_count": 12,
      "outputs": [
        {
          "output_type": "execute_result",
          "data": {
            "text/plain": [
              "<matplotlib.image.AxesImage at 0x7f6a9c2520b8>"
            ]
          },
          "metadata": {
            "tags": []
          },
          "execution_count": 12
        },
        {
          "output_type": "display_data",
          "data": {
            "image/png": "[encoded data removed]",
            "text/plain": [
              "<Figure size 432x288 with 1 Axes>"
            ]
          },
          "metadata": {
            "tags": [],
            "needs_background": "light"
          }
        }
      ]
    },
    {
      "cell_type": "code",
      "metadata": {
        "id": "rofIC1Rx0_QV",
        "colab": {
          "base_uri": "https://localhost:8080/"
        },
        "outputId": "9ca1bdb5-eba2-4dc6-a5f8-124a10051bd0"
      },
      "source": [
        "train_labels[8]"
      ],
      "execution_count": 13,
      "outputs": [
        {
          "output_type": "execute_result",
          "data": {
            "text/plain": [
              "1"
            ]
          },
          "metadata": {
            "tags": []
          },
          "execution_count": 13
        }
      ]
    },
    {
      "cell_type": "code",
      "metadata": {
        "id": "zcLTccye228v"
      },
      "source": [
        "from keras.utils import to_categorical\n",
        "train_labels_original = train_labels\n",
        "train_labels = to_categorical(train_labels)"
      ],
      "execution_count": 14,
      "outputs": []
    },
    {
      "cell_type": "code",
      "metadata": {
        "id": "P2WgStcR3NOK",
        "colab": {
          "base_uri": "https://localhost:8080/"
        },
        "outputId": "871cd404-62f1-4f94-adc2-cee68ee1e8b8"
      },
      "source": [
        "train_labels[20]"
      ],
      "execution_count": 15,
      "outputs": [
        {
          "output_type": "execute_result",
          "data": {
            "text/plain": [
              "array([0., 0., 0., 0., 1., 0., 0., 0., 0., 0.], dtype=float32)"
            ]
          },
          "metadata": {
            "tags": []
          },
          "execution_count": 15
        }
      ]
    },
    {
      "cell_type": "code",
      "metadata": {
        "id": "kCtUsTkm3iOa"
      },
      "source": [
        "test_labels_original = test_labels\n",
        "test_labels = to_categorical(test_labels)"
      ],
      "execution_count": 16,
      "outputs": []
    },
    {
      "cell_type": "code",
      "metadata": {
        "id": "gUx8RmOk3n-u",
        "colab": {
          "base_uri": "https://localhost:8080/"
        },
        "outputId": "91e68a2d-d49d-400b-eae2-7a61173a4d1a"
      },
      "source": [
        "test_labels_original[7]"
      ],
      "execution_count": 17,
      "outputs": [
        {
          "output_type": "execute_result",
          "data": {
            "text/plain": [
              "9"
            ]
          },
          "metadata": {
            "tags": []
          },
          "execution_count": 17
        }
      ]
    },
    {
      "cell_type": "code",
      "metadata": {
        "id": "Myuijtgg3rV1",
        "colab": {
          "base_uri": "https://localhost:8080/"
        },
        "outputId": "b55895c7-6569-49b6-f243-f904955e0268"
      },
      "source": [
        "test_labels[7]"
      ],
      "execution_count": 18,
      "outputs": [
        {
          "output_type": "execute_result",
          "data": {
            "text/plain": [
              "array([0., 0., 0., 0., 0., 0., 0., 0., 0., 1.], dtype=float32)"
            ]
          },
          "metadata": {
            "tags": []
          },
          "execution_count": 18
        }
      ]
    },
    {
      "cell_type": "code",
      "metadata": {
        "id": "cZd4TuZw4GrZ"
      },
      "source": [
        "from keras import layers, models"
      ],
      "execution_count": 19,
      "outputs": []
    },
    {
      "cell_type": "code",
      "metadata": {
        "id": "MdXtk0--4PYx"
      },
      "source": [
        "model = models.Sequential()"
      ],
      "execution_count": 20,
      "outputs": []
    },
    {
      "cell_type": "code",
      "metadata": {
        "id": "LlK62Onx4XUN"
      },
      "source": [
        "model.add(layers.Conv2D(32, (3,3), activation='relu', input_shape = (28,28,1)))"
      ],
      "execution_count": 21,
      "outputs": []
    },
    {
      "cell_type": "code",
      "metadata": {
        "id": "u2METLG67BVE",
        "colab": {
          "base_uri": "https://localhost:8080/"
        },
        "outputId": "d0fe11f7-ae96-4fca-c62c-e8b0fa870e98"
      },
      "source": [
        "model.summary()"
      ],
      "execution_count": 22,
      "outputs": [
        {
          "output_type": "stream",
          "text": [
            "Model: \"sequential\"\n",
            "_________________________________________________________________\n",
            "Layer (type)                 Output Shape              Param #   \n",
            "=================================================================\n",
            "conv2d (Conv2D)              (None, 26, 26, 32)        320       \n",
            "=================================================================\n",
            "Total params: 320\n",
            "Trainable params: 320\n",
            "Non-trainable params: 0\n",
            "_________________________________________________________________\n"
          ],
          "name": "stdout"
        }
      ]
    },
    {
      "cell_type": "code",
      "metadata": {
        "id": "gN4AOSrX7ke-"
      },
      "source": [
        "model.add(layers.MaxPooling2D((2,2)))"
      ],
      "execution_count": 23,
      "outputs": []
    },
    {
      "cell_type": "code",
      "metadata": {
        "id": "t2KdvgOT73zC"
      },
      "source": [
        "model.add(layers.Conv2D(64, (3,3), activation = 'relu'))"
      ],
      "execution_count": 24,
      "outputs": []
    },
    {
      "cell_type": "code",
      "metadata": {
        "id": "-beW5YyP8BS1",
        "colab": {
          "base_uri": "https://localhost:8080/"
        },
        "outputId": "e23e28e4-9c2b-4855-f635-a878eb2f614c"
      },
      "source": [
        "model.summary()"
      ],
      "execution_count": 25,
      "outputs": [
        {
          "output_type": "stream",
          "text": [
            "Model: \"sequential\"\n",
            "_________________________________________________________________\n",
            "Layer (type)                 Output Shape              Param #   \n",
            "=================================================================\n",
            "conv2d (Conv2D)              (None, 26, 26, 32)        320       \n",
            "_________________________________________________________________\n",
            "max_pooling2d (MaxPooling2D) (None, 13, 13, 32)        0         \n",
            "_________________________________________________________________\n",
            "conv2d_1 (Conv2D)            (None, 11, 11, 64)        18496     \n",
            "=================================================================\n",
            "Total params: 18,816\n",
            "Trainable params: 18,816\n",
            "Non-trainable params: 0\n",
            "_________________________________________________________________\n"
          ],
          "name": "stdout"
        }
      ]
    },
    {
      "cell_type": "code",
      "metadata": {
        "id": "PN_X8pjE8PFU"
      },
      "source": [
        "model.add(layers.MaxPooling2D((2,2)))"
      ],
      "execution_count": 26,
      "outputs": []
    },
    {
      "cell_type": "code",
      "metadata": {
        "id": "Gcq51QBs8ify"
      },
      "source": [
        "model.add(layers.Conv2D(64, (3,3), activation='relu'))"
      ],
      "execution_count": 27,
      "outputs": []
    },
    {
      "cell_type": "code",
      "metadata": {
        "id": "zaWlzwcy8s1f",
        "colab": {
          "base_uri": "https://localhost:8080/"
        },
        "outputId": "03f9f8c4-7d61-4b47-be1c-019b5b9f77e5"
      },
      "source": [
        "model.summary()"
      ],
      "execution_count": 28,
      "outputs": [
        {
          "output_type": "stream",
          "text": [
            "Model: \"sequential\"\n",
            "_________________________________________________________________\n",
            "Layer (type)                 Output Shape              Param #   \n",
            "=================================================================\n",
            "conv2d (Conv2D)              (None, 26, 26, 32)        320       \n",
            "_________________________________________________________________\n",
            "max_pooling2d (MaxPooling2D) (None, 13, 13, 32)        0         \n",
            "_________________________________________________________________\n",
            "conv2d_1 (Conv2D)            (None, 11, 11, 64)        18496     \n",
            "_________________________________________________________________\n",
            "max_pooling2d_1 (MaxPooling2 (None, 5, 5, 64)          0         \n",
            "_________________________________________________________________\n",
            "conv2d_2 (Conv2D)            (None, 3, 3, 64)          36928     \n",
            "=================================================================\n",
            "Total params: 55,744\n",
            "Trainable params: 55,744\n",
            "Non-trainable params: 0\n",
            "_________________________________________________________________\n"
          ],
          "name": "stdout"
        }
      ]
    },
    {
      "cell_type": "code",
      "metadata": {
        "id": "oDATD0G78zcY"
      },
      "source": [
        "model.add(layers.Flatten())"
      ],
      "execution_count": 29,
      "outputs": []
    },
    {
      "cell_type": "code",
      "metadata": {
        "id": "VYPwKA-w9ZgK",
        "colab": {
          "base_uri": "https://localhost:8080/"
        },
        "outputId": "75508b71-013d-46ba-cf37-d782a5a6d8f5"
      },
      "source": [
        "model.summary()"
      ],
      "execution_count": 30,
      "outputs": [
        {
          "output_type": "stream",
          "text": [
            "Model: \"sequential\"\n",
            "_________________________________________________________________\n",
            "Layer (type)                 Output Shape              Param #   \n",
            "=================================================================\n",
            "conv2d (Conv2D)              (None, 26, 26, 32)        320       \n",
            "_________________________________________________________________\n",
            "max_pooling2d (MaxPooling2D) (None, 13, 13, 32)        0         \n",
            "_________________________________________________________________\n",
            "conv2d_1 (Conv2D)            (None, 11, 11, 64)        18496     \n",
            "_________________________________________________________________\n",
            "max_pooling2d_1 (MaxPooling2 (None, 5, 5, 64)          0         \n",
            "_________________________________________________________________\n",
            "conv2d_2 (Conv2D)            (None, 3, 3, 64)          36928     \n",
            "_________________________________________________________________\n",
            "flatten (Flatten)            (None, 576)               0         \n",
            "=================================================================\n",
            "Total params: 55,744\n",
            "Trainable params: 55,744\n",
            "Non-trainable params: 0\n",
            "_________________________________________________________________\n"
          ],
          "name": "stdout"
        }
      ]
    },
    {
      "cell_type": "code",
      "metadata": {
        "id": "ua4iv3Oj9h30"
      },
      "source": [
        "model.add(layers.Dense(64, activation = 'relu'))"
      ],
      "execution_count": 31,
      "outputs": []
    },
    {
      "cell_type": "code",
      "metadata": {
        "id": "KJW2Vxzm9zFV"
      },
      "source": [
        "model.add(layers.Dense(10, activation='softmax'))"
      ],
      "execution_count": 32,
      "outputs": []
    },
    {
      "cell_type": "code",
      "metadata": {
        "id": "8gwZWtqJ-I2T",
        "colab": {
          "base_uri": "https://localhost:8080/"
        },
        "outputId": "91e7ec2e-be0a-4a7c-f9bd-96be44b67930"
      },
      "source": [
        "model.summary()"
      ],
      "execution_count": 33,
      "outputs": [
        {
          "output_type": "stream",
          "text": [
            "Model: \"sequential\"\n",
            "_________________________________________________________________\n",
            "Layer (type)                 Output Shape              Param #   \n",
            "=================================================================\n",
            "conv2d (Conv2D)              (None, 26, 26, 32)        320       \n",
            "_________________________________________________________________\n",
            "max_pooling2d (MaxPooling2D) (None, 13, 13, 32)        0         \n",
            "_________________________________________________________________\n",
            "conv2d_1 (Conv2D)            (None, 11, 11, 64)        18496     \n",
            "_________________________________________________________________\n",
            "max_pooling2d_1 (MaxPooling2 (None, 5, 5, 64)          0         \n",
            "_________________________________________________________________\n",
            "conv2d_2 (Conv2D)            (None, 3, 3, 64)          36928     \n",
            "_________________________________________________________________\n",
            "flatten (Flatten)            (None, 576)               0         \n",
            "_________________________________________________________________\n",
            "dense (Dense)                (None, 64)                36928     \n",
            "_________________________________________________________________\n",
            "dense_1 (Dense)              (None, 10)                650       \n",
            "=================================================================\n",
            "Total params: 93,322\n",
            "Trainable params: 93,322\n",
            "Non-trainable params: 0\n",
            "_________________________________________________________________\n"
          ],
          "name": "stdout"
        }
      ]
    },
    {
      "cell_type": "code",
      "metadata": {
        "id": "CjO2rrdi-UYP"
      },
      "source": [
        "model.compile(loss='categorical_crossentropy', optimizer='rmsprop', metrics=['accuracy'])"
      ],
      "execution_count": 34,
      "outputs": []
    },
    {
      "cell_type": "code",
      "metadata": {
        "id": "HRW7N6lv_CMW",
        "colab": {
          "base_uri": "https://localhost:8080/"
        },
        "outputId": "0d6244f9-a314-4464-9777-b5f7f48fbb73"
      },
      "source": [
        "model.fit(train_images, train_labels, epochs = 100, batch_size=64)"
      ],
      "execution_count": 35,
      "outputs": [
        {
          "output_type": "stream",
          "text": [
            "Epoch 1/100\n",
            "938/938 [==============================] - 11s 4ms/step - loss: 0.3898 - accuracy: 0.8769\n",
            "Epoch 2/100\n",
            "938/938 [==============================] - 4s 4ms/step - loss: 0.0527 - accuracy: 0.9837\n",
            "Epoch 3/100\n",
            "938/938 [==============================] - 4s 4ms/step - loss: 0.0316 - accuracy: 0.9907\n",
            "Epoch 4/100\n",
            "938/938 [==============================] - 4s 4ms/step - loss: 0.0231 - accuracy: 0.9925\n",
            "Epoch 5/100\n",
            "938/938 [==============================] - 4s 4ms/step - loss: 0.0184 - accuracy: 0.9943\n",
            "Epoch 6/100\n",
            "938/938 [==============================] - 4s 4ms/step - loss: 0.0136 - accuracy: 0.9957\n",
            "Epoch 7/100\n",
            "938/938 [==============================] - 4s 4ms/step - loss: 0.0111 - accuracy: 0.9968\n",
            "Epoch 8/100\n",
            "938/938 [==============================] - 4s 4ms/step - loss: 0.0117 - accuracy: 0.9966\n",
            "Epoch 9/100\n",
            "938/938 [==============================] - 4s 5ms/step - loss: 0.0078 - accuracy: 0.9975\n",
            "Epoch 10/100\n",
            "938/938 [==============================] - 4s 5ms/step - loss: 0.0069 - accuracy: 0.9981\n",
            "Epoch 11/100\n",
            "938/938 [==============================] - 4s 4ms/step - loss: 0.0065 - accuracy: 0.9983\n",
            "Epoch 12/100\n",
            "938/938 [==============================] - 4s 4ms/step - loss: 0.0049 - accuracy: 0.9984\n",
            "Epoch 13/100\n",
            "938/938 [==============================] - 4s 4ms/step - loss: 0.0046 - accuracy: 0.9984\n",
            "Epoch 14/100\n",
            "938/938 [==============================] - 4s 4ms/step - loss: 0.0039 - accuracy: 0.9990\n",
            "Epoch 15/100\n",
            "938/938 [==============================] - 4s 4ms/step - loss: 0.0032 - accuracy: 0.9989\n",
            "Epoch 16/100\n",
            "938/938 [==============================] - 4s 4ms/step - loss: 0.0033 - accuracy: 0.9990\n",
            "Epoch 17/100\n",
            "938/938 [==============================] - 4s 4ms/step - loss: 0.0035 - accuracy: 0.9992\n",
            "Epoch 18/100\n",
            "938/938 [==============================] - 4s 4ms/step - loss: 0.0027 - accuracy: 0.9992\n",
            "Epoch 19/100\n",
            "938/938 [==============================] - 4s 4ms/step - loss: 0.0024 - accuracy: 0.9994\n",
            "Epoch 20/100\n",
            "938/938 [==============================] - 4s 4ms/step - loss: 0.0022 - accuracy: 0.9993\n",
            "Epoch 21/100\n",
            "938/938 [==============================] - 4s 4ms/step - loss: 0.0033 - accuracy: 0.9991\n",
            "Epoch 22/100\n",
            "938/938 [==============================] - 4s 4ms/step - loss: 0.0019 - accuracy: 0.9995\n",
            "Epoch 23/100\n",
            "938/938 [==============================] - 4s 4ms/step - loss: 0.0023 - accuracy: 0.9993\n",
            "Epoch 24/100\n",
            "938/938 [==============================] - 4s 4ms/step - loss: 0.0031 - accuracy: 0.9992\n",
            "Epoch 25/100\n",
            "938/938 [==============================] - 4s 4ms/step - loss: 0.0025 - accuracy: 0.9993\n",
            "Epoch 26/100\n",
            "938/938 [==============================] - 4s 4ms/step - loss: 0.0025 - accuracy: 0.9992\n",
            "Epoch 27/100\n",
            "938/938 [==============================] - 4s 4ms/step - loss: 0.0014 - accuracy: 0.9996\n",
            "Epoch 28/100\n",
            "938/938 [==============================] - 4s 4ms/step - loss: 0.0016 - accuracy: 0.9996\n",
            "Epoch 29/100\n",
            "938/938 [==============================] - 4s 4ms/step - loss: 0.0021 - accuracy: 0.9996\n",
            "Epoch 30/100\n",
            "938/938 [==============================] - 4s 4ms/step - loss: 0.0027 - accuracy: 0.9995\n",
            "Epoch 31/100\n",
            "938/938 [==============================] - 4s 4ms/step - loss: 0.0022 - accuracy: 0.9995\n",
            "Epoch 32/100\n",
            "938/938 [==============================] - 4s 4ms/step - loss: 0.0024 - accuracy: 0.9994\n",
            "Epoch 33/100\n",
            "938/938 [==============================] - 4s 4ms/step - loss: 9.0541e-04 - accuracy: 0.9997\n",
            "Epoch 34/100\n",
            "938/938 [==============================] - 4s 4ms/step - loss: 0.0011 - accuracy: 0.9998\n",
            "Epoch 35/100\n",
            "938/938 [==============================] - 4s 4ms/step - loss: 0.0015 - accuracy: 0.9996\n",
            "Epoch 36/100\n",
            "938/938 [==============================] - 4s 4ms/step - loss: 0.0016 - accuracy: 0.9996\n",
            "Epoch 37/100\n",
            "938/938 [==============================] - 4s 4ms/step - loss: 0.0012 - accuracy: 0.9997\n",
            "Epoch 38/100\n",
            "938/938 [==============================] - 4s 4ms/step - loss: 0.0024 - accuracy: 0.9995\n",
            "Epoch 39/100\n",
            "938/938 [==============================] - 4s 4ms/step - loss: 0.0014 - accuracy: 0.9998\n",
            "Epoch 40/100\n",
            "938/938 [==============================] - 4s 4ms/step - loss: 0.0038 - accuracy: 0.9994\n",
            "Epoch 41/100\n",
            "938/938 [==============================] - 4s 4ms/step - loss: 0.0026 - accuracy: 0.9995\n",
            "Epoch 42/100\n",
            "938/938 [==============================] - 4s 4ms/step - loss: 0.0010 - accuracy: 0.9997\n",
            "Epoch 43/100\n",
            "938/938 [==============================] - 4s 4ms/step - loss: 0.0012 - accuracy: 0.9998\n",
            "Epoch 44/100\n",
            "938/938 [==============================] - 4s 4ms/step - loss: 0.0010 - accuracy: 0.9997\n",
            "Epoch 45/100\n",
            "938/938 [==============================] - 4s 4ms/step - loss: 0.0014 - accuracy: 0.9997\n",
            "Epoch 46/100\n",
            "938/938 [==============================] - 4s 4ms/step - loss: 0.0016 - accuracy: 0.9997\n",
            "Epoch 47/100\n",
            "938/938 [==============================] - 4s 4ms/step - loss: 0.0014 - accuracy: 0.9998\n",
            "Epoch 48/100\n",
            "938/938 [==============================] - 4s 4ms/step - loss: 0.0021 - accuracy: 0.9998\n",
            "Epoch 49/100\n",
            "938/938 [==============================] - 4s 4ms/step - loss: 0.0010 - accuracy: 0.9998\n",
            "Epoch 50/100\n",
            "938/938 [==============================] - 4s 4ms/step - loss: 8.6634e-04 - accuracy: 0.9997\n",
            "Epoch 51/100\n",
            "938/938 [==============================] - 4s 4ms/step - loss: 0.0019 - accuracy: 0.9997\n",
            "Epoch 52/100\n",
            "938/938 [==============================] - 4s 4ms/step - loss: 0.0023 - accuracy: 0.9996\n",
            "Epoch 53/100\n",
            "938/938 [==============================] - 4s 4ms/step - loss: 0.0019 - accuracy: 0.9996\n",
            "Epoch 54/100\n",
            "938/938 [==============================] - 4s 4ms/step - loss: 0.0012 - accuracy: 0.9998\n",
            "Epoch 55/100\n",
            "938/938 [==============================] - 4s 4ms/step - loss: 0.0017 - accuracy: 0.9997\n",
            "Epoch 56/100\n",
            "938/938 [==============================] - 4s 4ms/step - loss: 0.0021 - accuracy: 0.9997\n",
            "Epoch 57/100\n",
            "938/938 [==============================] - 4s 4ms/step - loss: 3.6679e-04 - accuracy: 0.9998\n",
            "Epoch 58/100\n",
            "938/938 [==============================] - 4s 4ms/step - loss: 8.8484e-04 - accuracy: 0.9999\n",
            "Epoch 59/100\n",
            "938/938 [==============================] - 4s 4ms/step - loss: 8.5716e-04 - accuracy: 0.9998\n",
            "Epoch 60/100\n",
            "938/938 [==============================] - 4s 4ms/step - loss: 2.4534e-04 - accuracy: 0.9999\n",
            "Epoch 61/100\n",
            "938/938 [==============================] - 4s 4ms/step - loss: 9.4427e-04 - accuracy: 0.9998\n",
            "Epoch 62/100\n",
            "938/938 [==============================] - 4s 4ms/step - loss: 4.8935e-04 - accuracy: 0.9998\n",
            "Epoch 63/100\n",
            "938/938 [==============================] - 4s 4ms/step - loss: 4.3885e-04 - accuracy: 0.9999\n",
            "Epoch 64/100\n",
            "938/938 [==============================] - 4s 4ms/step - loss: 5.5012e-04 - accuracy: 0.9999\n",
            "Epoch 65/100\n",
            "938/938 [==============================] - 4s 4ms/step - loss: 0.0024 - accuracy: 0.9998\n",
            "Epoch 66/100\n",
            "938/938 [==============================] - 4s 4ms/step - loss: 0.0013 - accuracy: 0.9998\n",
            "Epoch 67/100\n",
            "938/938 [==============================] - 4s 4ms/step - loss: 5.4210e-04 - accuracy: 0.9999\n",
            "Epoch 68/100\n",
            "938/938 [==============================] - 4s 4ms/step - loss: 6.4956e-04 - accuracy: 0.9999\n",
            "Epoch 69/100\n",
            "938/938 [==============================] - 4s 4ms/step - loss: 4.1036e-04 - accuracy: 0.9999\n",
            "Epoch 70/100\n",
            "938/938 [==============================] - 4s 4ms/step - loss: 0.0014 - accuracy: 0.9998\n",
            "Epoch 71/100\n",
            "938/938 [==============================] - 4s 4ms/step - loss: 0.0013 - accuracy: 0.9998\n",
            "Epoch 72/100\n",
            "938/938 [==============================] - 4s 4ms/step - loss: 0.0016 - accuracy: 0.9998\n",
            "Epoch 73/100\n",
            "938/938 [==============================] - 4s 4ms/step - loss: 0.0013 - accuracy: 0.9998\n",
            "Epoch 74/100\n",
            "938/938 [==============================] - 4s 4ms/step - loss: 9.4554e-04 - accuracy: 0.9998\n",
            "Epoch 75/100\n",
            "938/938 [==============================] - 4s 4ms/step - loss: 0.0016 - accuracy: 0.9997\n",
            "Epoch 76/100\n",
            "938/938 [==============================] - 4s 4ms/step - loss: 4.4934e-04 - accuracy: 0.9999\n",
            "Epoch 77/100\n",
            "938/938 [==============================] - 4s 4ms/step - loss: 0.0020 - accuracy: 0.9997\n",
            "Epoch 78/100\n",
            "938/938 [==============================] - 4s 4ms/step - loss: 0.0010 - accuracy: 0.9998\n",
            "Epoch 79/100\n",
            "938/938 [==============================] - 4s 4ms/step - loss: 0.0018 - accuracy: 0.9997\n",
            "Epoch 80/100\n",
            "938/938 [==============================] - 4s 4ms/step - loss: 0.0011 - accuracy: 0.9998\n",
            "Epoch 81/100\n",
            "938/938 [==============================] - 4s 4ms/step - loss: 0.0013 - accuracy: 0.9999\n",
            "Epoch 82/100\n",
            "938/938 [==============================] - 4s 4ms/step - loss: 0.0024 - accuracy: 0.9997\n",
            "Epoch 83/100\n",
            "938/938 [==============================] - 4s 4ms/step - loss: 0.0010 - accuracy: 0.9998\n",
            "Epoch 84/100\n",
            "938/938 [==============================] - 4s 4ms/step - loss: 1.1759e-04 - accuracy: 1.0000\n",
            "Epoch 85/100\n",
            "938/938 [==============================] - 4s 4ms/step - loss: 2.3528e-04 - accuracy: 0.9999\n",
            "Epoch 86/100\n",
            "938/938 [==============================] - 4s 5ms/step - loss: 0.0013 - accuracy: 0.9998\n",
            "Epoch 87/100\n",
            "938/938 [==============================] - 4s 5ms/step - loss: 7.3213e-04 - accuracy: 0.9999\n",
            "Epoch 88/100\n",
            "938/938 [==============================] - 4s 4ms/step - loss: 0.0016 - accuracy: 0.9998\n",
            "Epoch 89/100\n",
            "938/938 [==============================] - 4s 4ms/step - loss: 0.0027 - accuracy: 0.9998\n",
            "Epoch 90/100\n",
            "938/938 [==============================] - 4s 4ms/step - loss: 0.0017 - accuracy: 0.9998\n",
            "Epoch 91/100\n",
            "938/938 [==============================] - 4s 4ms/step - loss: 0.0012 - accuracy: 0.9998\n",
            "Epoch 92/100\n",
            "938/938 [==============================] - 4s 4ms/step - loss: 4.1625e-04 - accuracy: 0.9999\n",
            "Epoch 93/100\n",
            "938/938 [==============================] - 4s 4ms/step - loss: 8.9343e-04 - accuracy: 0.9999\n",
            "Epoch 94/100\n",
            "938/938 [==============================] - 4s 4ms/step - loss: 0.0021 - accuracy: 0.9998\n",
            "Epoch 95/100\n",
            "938/938 [==============================] - 4s 4ms/step - loss: 0.0029 - accuracy: 0.9998\n",
            "Epoch 96/100\n",
            "938/938 [==============================] - 4s 4ms/step - loss: 1.4341e-04 - accuracy: 1.0000\n",
            "Epoch 97/100\n",
            "938/938 [==============================] - 4s 4ms/step - loss: 3.7179e-04 - accuracy: 0.9999\n",
            "Epoch 98/100\n",
            "938/938 [==============================] - 4s 4ms/step - loss: 6.2050e-05 - accuracy: 1.0000\n",
            "Epoch 99/100\n",
            "938/938 [==============================] - 4s 4ms/step - loss: 4.5324e-04 - accuracy: 0.9999\n",
            "Epoch 100/100\n",
            "938/938 [==============================] - 4s 4ms/step - loss: 0.0011 - accuracy: 0.9999\n"
          ],
          "name": "stdout"
        },
        {
          "output_type": "execute_result",
          "data": {
            "text/plain": [
              "<tensorflow.python.keras.callbacks.History at 0x7f6a900267b8>"
            ]
          },
          "metadata": {
            "tags": []
          },
          "execution_count": 35
        }
      ]
    },
    {
      "cell_type": "code",
      "metadata": {
        "id": "C65NGsjVBOjo",
        "colab": {
          "base_uri": "https://localhost:8080/"
        },
        "outputId": "052bac59-17af-4413-fb03-02b23048d13f"
      },
      "source": [
        "test_loss, test_accuracy = model.evaluate(test_images, test_labels)"
      ],
      "execution_count": 36,
      "outputs": [
        {
          "output_type": "stream",
          "text": [
            "313/313 [==============================] - 1s 2ms/step - loss: 0.2819 - accuracy: 0.9911\n"
          ],
          "name": "stdout"
        }
      ]
    },
    {
      "cell_type": "code",
      "metadata": {
        "id": "sDBw05lPBfMj",
        "colab": {
          "base_uri": "https://localhost:8080/"
        },
        "outputId": "6c8f327b-8984-4a57-ea97-4986ec9b7ecc"
      },
      "source": [
        "test_accuracy"
      ],
      "execution_count": 37,
      "outputs": [
        {
          "output_type": "execute_result",
          "data": {
            "text/plain": [
              "0.991100013256073"
            ]
          },
          "metadata": {
            "tags": []
          },
          "execution_count": 37
        }
      ]
    },
    {
      "cell_type": "code",
      "metadata": {
        "id": "K4Ty4O1WB3JQ",
        "colab": {
          "base_uri": "https://localhost:8080/"
        },
        "outputId": "4c309e05-cc6c-42da-c445-373d1150dea6"
      },
      "source": [
        "predictions = model.predict_classes(test_images)"
      ],
      "execution_count": 38,
      "outputs": [
        {
          "output_type": "stream",
          "text": [
            "/usr/local/lib/python3.6/dist-packages/tensorflow/python/keras/engine/sequential.py:450: UserWarning: `model.predict_classes()` is deprecated and will be removed after 2021-01-01. Please use instead:* `np.argmax(model.predict(x), axis=-1)`,   if your model does multi-class classification   (e.g. if it uses a `softmax` last-layer activation).* `(model.predict(x) > 0.5).astype(\"int32\")`,   if your model does binary classification   (e.g. if it uses a `sigmoid` last-layer activation).\n",
            "  warnings.warn('`model.predict_classes()` is deprecated and '\n"
          ],
          "name": "stderr"
        }
      ]
    },
    {
      "cell_type": "code",
      "metadata": {
        "id": "mrSezl9zCALn",
        "colab": {
          "base_uri": "https://localhost:8080/",
          "height": 282
        },
        "outputId": "4f0d8a71-3c5a-418c-d6e9-4519fa797615"
      },
      "source": [
        "plt.imshow(image.array_to_img(test_images[999]), cmap=\"gray\")"
      ],
      "execution_count": 39,
      "outputs": [
        {
          "output_type": "execute_result",
          "data": {
            "text/plain": [
              "<matplotlib.image.AxesImage at 0x7f6a440775f8>"
            ]
          },
          "metadata": {
            "tags": []
          },
          "execution_count": 39
        },
        {
          "output_type": "display_data",
          "data": {
            "image/png": "[encoded data removed]",
            "text/plain": [
              "<Figure size 432x288 with 1 Axes>"
            ]
          },
          "metadata": {
            "tags": [],
            "needs_background": "light"
          }
        }
      ]
    },
    {
      "cell_type": "code",
      "metadata": {
        "id": "nKJbHHk0CLNs",
        "colab": {
          "base_uri": "https://localhost:8080/"
        },
        "outputId": "399a594f-5380-4677-923b-ef5ba90611d8"
      },
      "source": [
        "predictions[999]"
      ],
      "execution_count": 40,
      "outputs": [
        {
          "output_type": "execute_result",
          "data": {
            "text/plain": [
              "9"
            ]
          },
          "metadata": {
            "tags": []
          },
          "execution_count": 40
        }
      ]
    }
  ]
}